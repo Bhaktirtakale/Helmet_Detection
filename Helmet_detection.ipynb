{
  "nbformat": 4,
  "nbformat_minor": 0,
  "metadata": {
    "colab": {
      "provenance": [],
      "gpuType": "T4"
    },
    "kernelspec": {
      "name": "python3",
      "display_name": "Python 3"
    },
    "language_info": {
      "name": "python"
    },
    "accelerator": "GPU"
  },
  "cells": [
    {
      "cell_type": "code",
      "execution_count": null,
      "metadata": {
        "id": "90w4dBgpVLvs"
      },
      "outputs": [],
      "source": [
        "!nvidia-smi\n"
      ]
    },
    {
      "cell_type": "code",
      "source": [
        "!pip install ultralytics"
      ],
      "metadata": {
        "id": "UCCs-0HyWMFk"
      },
      "execution_count": null,
      "outputs": []
    },
    {
      "cell_type": "code",
      "source": [
        "import ultralytics\n",
        "ultralytics.checks()"
      ],
      "metadata": {
        "id": "8oPkDYmZWl2M"
      },
      "execution_count": null,
      "outputs": []
    },
    {
      "cell_type": "code",
      "source": [
        "from ultralytics import YOLO\n",
        "from IPython.display import Image"
      ],
      "metadata": {
        "id": "pBx27AQyXBpk"
      },
      "execution_count": null,
      "outputs": []
    },
    {
      "cell_type": "markdown",
      "source": [
        "downloading dataset from roboflow"
      ],
      "metadata": {
        "id": "E9m5kqjMXX-A"
      }
    },
    {
      "cell_type": "code",
      "source": [
        "!pip install roboflow\n",
        "\n",
        "from roboflow import Roboflow\n",
        "rf = Roboflow(api_key=\"4Dhy7ou37oh3PRalhW0v\")\n",
        "project = rf.workspace(\"helmetdetection-e8tdl\").project(\"helmet-detector-brbf5-hfkqd\")\n",
        "version = project.version(1)\n",
        "dataset = version.download(\"yolov8\")\n"
      ],
      "metadata": {
        "id": "KoMUjATiXXcx"
      },
      "execution_count": null,
      "outputs": []
    },
    {
      "cell_type": "code",
      "source": [
        "dataset.location"
      ],
      "metadata": {
        "id": "DURzN9xFdVVs"
      },
      "execution_count": null,
      "outputs": []
    },
    {
      "cell_type": "code",
      "source": [
        "!yolo task=detect mode=train data={dataset.location}/data.yaml model=\"yolov8n.pt\" epochs=100 imgsz=640"
      ],
      "metadata": {
        "id": "rCSnHqcuddi3"
      },
      "execution_count": null,
      "outputs": []
    },
    {
      "cell_type": "code",
      "source": [
        "Image(\"/content/runs/detect/train2/confusion_matrix.png\",width=600)"
      ],
      "metadata": {
        "id": "h04OYj44p9dE"
      },
      "execution_count": null,
      "outputs": []
    },
    {
      "cell_type": "code",
      "source": [
        "Image(\"/content/runs/detect/train2/labels.jpg\",width=600)"
      ],
      "metadata": {
        "id": "Lbx8uWKMqY29"
      },
      "execution_count": null,
      "outputs": []
    },
    {
      "cell_type": "code",
      "source": [
        "Image(\"/content/runs/detect/train2/results.png\",width=600)"
      ],
      "metadata": {
        "id": "Jy5mavlKqoBZ"
      },
      "execution_count": null,
      "outputs": []
    },
    {
      "cell_type": "code",
      "source": [
        "Image(\"/content/runs/detect/train2/val_batch0_pred.jpg\",width=600)"
      ],
      "metadata": {
        "id": "fOGEoCJqq0cc"
      },
      "execution_count": null,
      "outputs": []
    },
    {
      "cell_type": "code",
      "source": [
        "!yolo task=detect mode=predict model=\"/content/runs/detect/train2/weights/best.pt\" source=/content/traffic2.mp4 save=True"
      ],
      "metadata": {
        "id": "CZ6BfjbHq-vA"
      },
      "execution_count": null,
      "outputs": []
    },
    {
      "cell_type": "code",
      "source": [
        "import glob\n",
        "import os\n",
        "from IPython.display import Image as IPyImage,display\n",
        "\n",
        "latest_folder= max(glob.iglob('runs/detect/predict*/'), key=os.path.getmtime)\n",
        "for img in glob.glob(latest_folder+'/*'):\n",
        "  display(IPyImage(filename=img,width=600))\n",
        "  print(\"\\n\")"
      ],
      "metadata": {
        "id": "HAakJqp-sE6L"
      },
      "execution_count": null,
      "outputs": []
    },
    {
      "cell_type": "code",
      "source": [
        "!yolo task=detect mode=predict model=\"/content/runs/detect/train2/weights/best.pt\" source=\"/content/Helmet-Detector-1/test/helmetpillion.mp4\" save=True"
      ],
      "metadata": {
        "id": "X6aZW577tJIX"
      },
      "execution_count": null,
      "outputs": []
    }
  ]
}